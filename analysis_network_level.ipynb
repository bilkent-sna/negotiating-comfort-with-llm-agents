{
  "cells": [
    {
      "cell_type": "markdown",
      "metadata": {},
      "source": [
        "## Network-level analysis of the results for the paper \"Negotiating Comfort: Simulating Personality-Driven LLM Agents in Shared Residential Social Networks\""
      ]
    },
    {
      "cell_type": "code",
      "execution_count": null,
      "metadata": {
        "colab": {
          "base_uri": "https://localhost:8080/"
        },
        "id": "UxboXfJarU53",
        "outputId": "1576a0a5-bf99-4242-e85b-f29da3a2e7b0"
      },
      "outputs": [],
      "source": [
        "# Step 1: Mount Google Drive to access the simulation results\n",
        "from google.colab import drive\n",
        "drive.mount('/content/drive')"
      ]
    },
    {
      "cell_type": "code",
      "execution_count": null,
      "metadata": {
        "colab": {
          "base_uri": "https://localhost:8080/"
        },
        "id": "qqHwL7cIrh36",
        "outputId": "98645d8c-d17d-4499-ac2c-7ff6383060c9"
      },
      "outputs": [],
      "source": [
        "# Step 2: Switch to the simulation directory\n",
        "import sys\n",
        "#%cd /content/drive/My Drive/Crowd_Related_Work/crowd_projects/energy_sim_1/results/2025-05-13=14-34-43-377\n",
        "%cd /content/drive/My Drive/Crowd_Related_Work/crowd_projects/energy_sim_1/results/2025-05-13=14-34-03-754"
      ]
    },
    {
      "cell_type": "code",
      "execution_count": null,
      "metadata": {
        "id": "PT_Ein3trjVe"
      },
      "outputs": [],
      "source": [
        "# Step 3: Import the required libraries\n",
        "import statsmodels.api as sm\n",
        "import pandas as pd\n",
        "import matplotlib.pyplot as plt\n",
        "import numpy as np\n",
        "import os"
      ]
    },
    {
      "cell_type": "code",
      "execution_count": null,
      "metadata": {
        "id": "x8ZMFuJ4r4RS"
      },
      "outputs": [],
      "source": [
        "# Step 4: Load the data files needed depending on the type of analysis\n",
        "\n",
        "# Load the dataset for all days\n",
        "data_files = [os.path.join(os.getcwd(), f\"simulation_data_day_{day}_all.csv\") for day in range(15)]\n",
        "# data_files.extend([\n",
        "#     os.path.join(\"/content/drive/My Drive/Crowd_Related_Work/crowd_projects/energy_sim_1/results/2025-05-13=14-34-03-754\", f\"simulation_data_day_{day}_all.csv\")\n",
        "#     for day in range(30)\n",
        "# ])\n",
        "\n",
        "df_list = []\n",
        "\n",
        "for file in data_files:\n",
        "    day_data = pd.read_csv(file)\n",
        "    first_row_df = pd.DataFrame([day_data.iloc[0]])  # Convert first row to single-row DataFrame\n",
        "    first_row_df['group'] = 'fifty_percent'\n",
        "    first_row_df['network_day'] = int(file.split('_')[-2])\n",
        "    df_list.append(first_row_df)\n",
        "\n",
        "df = pd.concat(df_list, ignore_index=True)\n",
        "\n",
        "# Load 100% positive data\n",
        "pos100_df = pd.read_csv(\"/content/drive/My Drive/Crowd_Related_Work/crowd_projects/energy_sim_1/results/2025-05-19=04-30-39-778/pos_100_network_level.csv\")\n",
        "pos100_df['group'] = 'all_positive'\n",
        "pos100_df['network_day'] = range(0, 15)\n",
        "\n",
        "# Load 0% positive data\n",
        "pos0_df = pd.read_csv(\"/content/drive/My Drive/Crowd_Related_Work/crowd_projects/energy_sim_1/results/2025-05-19=04-31-25-891/pos_0_network_level.csv\")\n",
        "pos0_df['group'] = 'all_negative'\n",
        "pos0_df['network_day'] = range(0, 15)\n",
        "\n",
        "# Append the network-level CSVs properly using pd.concat\n",
        "df = pd.concat([\n",
        "    df,\n",
        "    pos100_df,\n",
        "    pos0_df], ignore_index=True)\n"
      ]
    },
    {
      "cell_type": "code",
      "execution_count": null,
      "metadata": {
        "id": "ikgLH9n-v8jI"
      },
      "outputs": [],
      "source": [
        "network_level_df =  df[[col for col in df.columns if col.startswith(\"network_\")]].copy()\n",
        "\n",
        "# Drop \"network_current_day\" if it's present\n",
        "network_level_df = network_level_df.drop(columns=[\"network_current_day\"], errors='ignore')"
      ]
    },
    {
      "cell_type": "code",
      "execution_count": null,
      "metadata": {
        "id": "MIrfoe4ARe-F"
      },
      "outputs": [],
      "source": [
        "# Step 5: Finding a regression line to show the trends with different trait distributions, results provided in Table 2 of the paper\n",
        "\n",
        "def run_slopes_all_metrics(df, metrics):\n",
        "    results = {}\n",
        "    for metric in metrics:\n",
        "        metric_results = {}\n",
        "        for group in df['group'].unique():\n",
        "            subset = df[df['group'] == group]\n",
        "            X = sm.add_constant(subset['network_day'])\n",
        "            y = subset[metric]\n",
        "            model = sm.OLS(y, X).fit()\n",
        "            metric_results[group] = {\n",
        "                'slope': model.params['network_day'],\n",
        "                'stderr': model.bse['network_day'],\n",
        "                'pvalue': model.pvalues['network_day'],\n",
        "            }\n",
        "        results[metric] = metric_results\n",
        "    return results"
      ]
    },
    {
      "cell_type": "code",
      "execution_count": null,
      "metadata": {
        "colab": {
          "base_uri": "https://localhost:8080/"
        },
        "id": "yDb7IRwAPlHu",
        "outputId": "62018d43-0266-4cb7-845e-8677ce09b542"
      },
      "outputs": [
        {
          "name": "stdout",
          "output_type": "stream",
          "text": [
            "\n",
            "📊 network_avg_weighted_degree\n",
            "  fifty_percent  : Slope = -0.0666, StdErr = 0.0404, P = 0.1232 \n",
            "  all_positive   : Slope = 0.1368, StdErr = 0.0273, P = 0.0002 ***\n",
            "  all_negative   : Slope = -0.1355, StdErr = 0.0272, P = 0.0003 ***\n",
            "\n",
            "📊 network_avg_friendship_weight\n",
            "  fifty_percent  : Slope = -0.0145, StdErr = 0.0088, P = 0.1232 \n",
            "  all_positive   : Slope = 0.0298, StdErr = 0.0059, P = 0.0002 ***\n",
            "  all_negative   : Slope = -0.0295, StdErr = 0.0059, P = 0.0003 ***\n",
            "\n",
            "📊 network_strong_friendships\n",
            "  fifty_percent  : Slope = 0.0214, StdErr = 0.1648, P = 0.8985 \n",
            "  all_positive   : Slope = 1.0786, StdErr = 0.2021, P = 0.0001 ***\n",
            "  all_negative   : Slope = -0.0464, StdErr = 0.1381, P = 0.7420 \n",
            "\n",
            "📊 network_degree_outside\n",
            "  fifty_percent  : Slope = 0.7750, StdErr = 0.1729, P = 0.0006 ***\n",
            "  all_positive   : Slope = 0.7750, StdErr = 0.1729, P = 0.0006 ***\n",
            "  all_negative   : Slope = 0.7750, StdErr = 0.1729, P = 0.0006 ***\n",
            "\n",
            "📊 network_temperature_set\n",
            "  fifty_percent  : Slope = 0.0000, StdErr = 0.0000, P = 0.5215 \n",
            "  all_positive   : Slope = -0.0321, StdErr = 0.0308, P = 0.3151 \n",
            "  all_negative   : Slope = -0.0143, StdErr = 0.0155, P = 0.3739 \n",
            "\n",
            "📊 network_cost\n",
            "  fifty_percent  : Slope = -0.7750, StdErr = 0.1729, P = 0.0006 ***\n",
            "  all_positive   : Slope = -0.8071, StdErr = 0.1770, P = 0.0005 ***\n",
            "  all_negative   : Slope = -0.7893, StdErr = 0.1804, P = 0.0008 ***\n",
            "\n",
            "📊 network_avg_happiness_level\n",
            "  fifty_percent  : Slope = -0.0044, StdErr = 0.0414, P = 0.9179 \n",
            "  all_positive   : Slope = 0.0314, StdErr = 0.0429, P = 0.4777 \n",
            "  all_negative   : Slope = -0.0826, StdErr = 0.0432, P = 0.0779 \n",
            "\n",
            "📊 network_cost_happ_ratio\n",
            "  fifty_percent  : Slope = -0.0087, StdErr = 0.0020, P = 0.0010 ***\n",
            "  all_positive   : Slope = -0.0090, StdErr = 0.0021, P = 0.0008 ***\n",
            "  all_negative   : Slope = -0.0091, StdErr = 0.0022, P = 0.0012 **\n"
          ]
        }
      ],
      "source": [
        "metrics = [\n",
        "    'network_avg_weighted_degree',\n",
        "    'network_avg_friendship_weight',\n",
        "    'network_strong_friendships',\n",
        "    'network_degree_outside',\n",
        "    'network_temperature_set',\n",
        "    'network_cost',\n",
        "    'network_avg_happiness_level',\n",
        "    'network_cost_happ_ratio'\n",
        "]\n",
        "\n",
        "slope_results = run_slopes_all_metrics(df, metrics)\n",
        "\n",
        "# Print the results, formatted for easy comparison \n",
        "for metric, groups in slope_results.items():\n",
        "    print(f\"\\n📊 {metric}\")\n",
        "    for group, res in groups.items():\n",
        "        star = (\n",
        "            \"***\" if res['pvalue'] < 0.001 else\n",
        "            \"**\" if res['pvalue'] < 0.01 else\n",
        "            \"*\" if res['pvalue'] < 0.05 else \"\"\n",
        "        )\n",
        "        print(f\"  {group:15}: Slope = {res['slope']:.4f}, StdErr = {res['stderr']:.4f}, P = {res['pvalue']:.4f} {star}\")\n"
      ]
    },
    {
      "cell_type": "code",
      "execution_count": null,
      "metadata": {
        "colab": {
          "base_uri": "https://localhost:8080/",
          "height": 472
        },
        "id": "csVeDk0VQXeh",
        "outputId": "9a44bcd1-555c-4c1c-8cbb-a5793fd87069"
      },
      "outputs": [
        {
          "data": {
            "image/png": "[encoded data removed]",
            "text/plain": [
              "<Figure size 640x480 with 1 Axes>"
            ]
          },
          "metadata": {},
          "output_type": "display_data"
        }
      ],
      "source": [
        "# A chart demonstrating trend over time by group\n",
        "for group in df['group'].unique():\n",
        "    subset = df[df['group'] == group]\n",
        "    plt.plot(subset['network_day'], subset['network_avg_friendship_weight'], label=group)\n",
        "    model = sm.OLS(subset['network_avg_friendship_weight'], sm.add_constant(subset['network_day'])).fit()\n",
        "    plt.plot(subset['network_day'], model.predict(sm.add_constant(subset['network_day'])), linestyle='--')\n",
        "\n",
        "plt.xlabel('Day')\n",
        "plt.ylabel('Average Friendship Weight')\n",
        "plt.title('Trend over Time by Group')\n",
        "plt.legend()\n",
        "plt.show()\n"
      ]
    },
    {
      "cell_type": "code",
      "execution_count": null,
      "metadata": {
        "colab": {
          "base_uri": "https://localhost:8080/"
        },
        "id": "fqqfn0EYx-4Q",
        "outputId": "0ee8c789-18f7-4581-946d-9b2c69d907b5"
      },
      "outputs": [
        {
          "name": "stdout",
          "output_type": "stream",
          "text": [
            "                                 OLS Regression Results                                \n",
            "=======================================================================================\n",
            "Dep. Variable:     network_avg_happiness_level   R-squared:                       0.792\n",
            "Model:                                     OLS   Adj. R-squared:                  0.788\n",
            "Method:                          Least Squares   F-statistic:                     211.0\n",
            "Date:                         Tue, 20 May 2025   Prob (F-statistic):           5.58e-21\n",
            "Time:                                 09:58:17   Log-Likelihood:                -81.382\n",
            "No. Observations:                           60   AIC:                             166.8\n",
            "Df Residuals:                               58   BIC:                             171.0\n",
            "Df Model:                                    1                                         \n",
            "Covariance Type:                           HC3                                         \n",
            "=================================================================================================\n",
            "                                    coef    std err          z      P>|z|      [0.025      0.975]\n",
            "-------------------------------------------------------------------------------------------------\n",
            "const                            75.5336      0.887     85.122      0.000      73.794      77.273\n",
            "network_avg_friendship_weight     4.7531      0.327     14.525      0.000       4.112       5.394\n",
            "==============================================================================\n",
            "Omnibus:                        0.282   Durbin-Watson:                   0.515\n",
            "Prob(Omnibus):                  0.868   Jarque-Bera (JB):                0.469\n",
            "Skew:                           0.048   Prob(JB):                        0.791\n",
            "Kurtosis:                       2.578   Cond. No.                         21.6\n",
            "==============================================================================\n",
            "\n",
            "Notes:\n",
            "[1] Standard Errors are heteroscedasticity robust (HC3)\n"
          ]
        }
      ],
      "source": [
        "# Step 6: OLS Regression to analyze the influence of network-level variables on average happiness level.\n",
        "\n",
        "import statsmodels.api as sm\n",
        "# import statsmodels.formula.api as smf\n",
        "\n",
        "# Example: Predicting average happiness level using the average friendship weight\n",
        "# In the paper, we provide regression results of predicting average happiness level using degree outside\n",
        "X = network_level_df[[\n",
        "        \"network_avg_friendship_weight\"\n",
        "        ]]\n",
        "y = network_level_df[\"network_avg_happiness_level\"]\n",
        "\n",
        "# Add constant for intercept\n",
        "X = sm.add_constant(X)\n",
        "\n",
        "model = sm.OLS(y, X).fit(cov_type='HC3')\n",
        "print(model.summary())\n"
      ]
    },
    {
      "cell_type": "code",
      "execution_count": null,
      "metadata": {
        "colab": {
          "base_uri": "https://localhost:8080/"
        },
        "id": "p0_2DBUHs-BX",
        "outputId": "0215ecb4-620c-4e51-862a-cde33cec5517"
      },
      "outputs": [
        {
          "name": "stdout",
          "output_type": "stream",
          "text": [
            "const: 0.000000000000000000000000000000\n",
            "network_avg_friendship_weight: 0.000000000000000000000000000000\n",
            "network_degree_outside: 0.000763327637756799253290762586\n"
          ]
        }
      ],
      "source": [
        "# Print p-values with full float precision\n",
        "for variable, pval in model.pvalues.items():\n",
        "    print(f\"{variable}: {pval:.30f}\")\n"
      ]
    },
    {
      "cell_type": "code",
      "execution_count": null,
      "metadata": {
        "id": "xqWQ_qLkzims"
      },
      "outputs": [],
      "source": [
        "# Step 7: Save the results\n",
        "with open(\"ols_results_network_level_10.txt\", \"w\") as f:\n",
        "    f.write(model.summary().as_text())"
      ]
    },
    {
      "cell_type": "code",
      "execution_count": null,
      "metadata": {
        "colab": {
          "base_uri": "https://localhost:8080/"
        },
        "id": "Tl_3shFxu2YX",
        "outputId": "5c99cbf3-50ea-45af-bc9e-34a140c9c1b2"
      },
      "outputs": [
        {
          "name": "stdout",
          "output_type": "stream",
          "text": [
            "\n",
            "Breusch-Pagan test statistic: 1.2688\n",
            "P-value: 0.5303\n",
            "=> No evidence of heteroskedasticity (variance is constant)\n"
          ]
        }
      ],
      "source": [
        "# Optional tests: Breusch-Pagan test to detect heteroskedasticity\n",
        "\n",
        "from statsmodels.stats.diagnostic import het_breuschpagan\n",
        "\n",
        "# Perform Breusch-Pagan test\n",
        "bp_test = het_breuschpagan(model.resid, model.model.exog)\n",
        "\n",
        "bp_stat = bp_test[0]\n",
        "bp_pval = bp_test[1]\n",
        "\n",
        "print(f\"\\nBreusch-Pagan test statistic: {bp_stat:.4f}\")\n",
        "print(f\"P-value: {bp_pval:.4f}\")\n",
        "\n",
        "if bp_pval < 0.05:\n",
        "    print(\"=> Heteroskedasticity detected (variance is not constant)\")\n",
        "else:\n",
        "    print(\"=> No evidence of heteroskedasticity (variance is constant)\")\n"
      ]
    },
    {
      "cell_type": "code",
      "execution_count": null,
      "metadata": {
        "colab": {
          "base_uri": "https://localhost:8080/"
        },
        "id": "tB1RuNEbzpy8",
        "outputId": "ffef651c-1116-4ba5-c545-ef7b720acb42"
      },
      "outputs": [
        {
          "name": "stdout",
          "output_type": "stream",
          "text": [
            "                        Variable       VIF\n",
            "0  network_avg_friendship_weight  1.228025\n",
            "1         network_degree_outside  1.228025\n"
          ]
        }
      ],
      "source": [
        "# VIF test\n",
        "import pandas as pd\n",
        "import statsmodels.api as sm\n",
        "from statsmodels.stats.outliers_influence import variance_inflation_factor\n",
        "from patsy import dmatrices\n",
        "\n",
        "formula = \"\"\"\n",
        "network_avg_happiness_level ~  network_avg_friendship_weight + network_degree_outside\n",
        "\n",
        "\"\"\"\n",
        "\n",
        "# Use Patsy to create design matrices\n",
        "y, X = dmatrices(formula, df, return_type='dataframe')\n",
        "\n",
        "# Drop intercept to avoid it skewing VIF\n",
        "X = X.drop('Intercept', axis=1)\n",
        "\n",
        "# Compute VIF\n",
        "vif_data = pd.DataFrame({\n",
        "    'Variable': X.columns,\n",
        "    'VIF': [variance_inflation_factor(X.values, i) for i in range(X.shape[1])]\n",
        "})\n",
        "\n",
        "print(vif_data)\n"
      ]
    },
    {
      "cell_type": "code",
      "execution_count": null,
      "metadata": {
        "colab": {
          "base_uri": "https://localhost:8080/"
        },
        "id": "2W0h59J40cH6",
        "outputId": "525e4344-3ea0-4aae-fe24-85cdf4fce658"
      },
      "outputs": [
        {
          "name": "stdout",
          "output_type": "stream",
          "text": [
            "                               network_avg_friendship_weight  \\\n",
            "network_avg_friendship_weight                       1.000000   \n",
            "network_degree_outside                             -0.011849   \n",
            "\n",
            "                               network_degree_outside  \n",
            "network_avg_friendship_weight               -0.011849  \n",
            "network_degree_outside                       1.000000  \n"
          ]
        }
      ],
      "source": [
        "# Correlations\n",
        "print(df[[\n",
        "    \"network_avg_friendship_weight\",\n",
        "    \"network_degree_outside\",\n",
        "    # \"network_temperature_set\",\n",
        "    # \"network_cost\"\n",
        "]].corr())"
      ]
    }
  ],
  "metadata": {
    "colab": {
      "provenance": []
    },
    "kernelspec": {
      "display_name": "Python 3",
      "name": "python3"
    },
    "language_info": {
      "name": "python"
    }
  },
  "nbformat": 4,
  "nbformat_minor": 0
}
